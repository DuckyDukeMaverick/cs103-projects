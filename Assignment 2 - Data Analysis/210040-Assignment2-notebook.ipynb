{
 "cells": [
  {
   "cell_type": "markdown",
   "metadata": {},
   "source": [
    "# Data Analysis with Pandas"
   ]
  },
  {
   "cell_type": "code",
   "execution_count": 1,
   "metadata": {},
   "outputs": [],
   "source": [
    "#importing necessary liberaries\n",
    "import numpy as np\n",
    "import pandas as pd\n",
    "import matplotlib.pyplot as plt"
   ]
  },
  {
   "cell_type": "code",
   "execution_count": 2,
   "metadata": {},
   "outputs": [
    {
     "data": {
      "text/html": [
       "<div>\n",
       "<style scoped>\n",
       "    .dataframe tbody tr th:only-of-type {\n",
       "        vertical-align: middle;\n",
       "    }\n",
       "\n",
       "    .dataframe tbody tr th {\n",
       "        vertical-align: top;\n",
       "    }\n",
       "\n",
       "    .dataframe thead th {\n",
       "        text-align: right;\n",
       "    }\n",
       "</style>\n",
       "<table border=\"1\" class=\"dataframe\">\n",
       "  <thead>\n",
       "    <tr style=\"text-align: right;\">\n",
       "      <th></th>\n",
       "      <th>id</th>\n",
       "      <th>rated</th>\n",
       "      <th>created_at</th>\n",
       "      <th>last_move_at</th>\n",
       "      <th>turns</th>\n",
       "      <th>victory_status</th>\n",
       "      <th>winner</th>\n",
       "      <th>increment_code</th>\n",
       "      <th>white_id</th>\n",
       "      <th>white_rating</th>\n",
       "      <th>black_id</th>\n",
       "      <th>black_rating</th>\n",
       "      <th>moves</th>\n",
       "      <th>opening_eco</th>\n",
       "      <th>opening_name</th>\n",
       "      <th>opening_ply</th>\n",
       "    </tr>\n",
       "  </thead>\n",
       "  <tbody>\n",
       "    <tr>\n",
       "      <th>0</th>\n",
       "      <td>TZJHLljE</td>\n",
       "      <td>False</td>\n",
       "      <td>1.504210e+12</td>\n",
       "      <td>1.504210e+12</td>\n",
       "      <td>13</td>\n",
       "      <td>outoftime</td>\n",
       "      <td>white</td>\n",
       "      <td>15+2</td>\n",
       "      <td>bourgris</td>\n",
       "      <td>1500</td>\n",
       "      <td>a-00</td>\n",
       "      <td>1191</td>\n",
       "      <td>d4 d5 c4 c6 cxd5 e6 dxe6 fxe6 Nf3 Bb4+ Nc3 Ba5...</td>\n",
       "      <td>D10</td>\n",
       "      <td>Slav Defense: Exchange Variation</td>\n",
       "      <td>5</td>\n",
       "    </tr>\n",
       "    <tr>\n",
       "      <th>1</th>\n",
       "      <td>l1NXvwaE</td>\n",
       "      <td>True</td>\n",
       "      <td>1.504130e+12</td>\n",
       "      <td>1.504130e+12</td>\n",
       "      <td>16</td>\n",
       "      <td>resign</td>\n",
       "      <td>black</td>\n",
       "      <td>5+10</td>\n",
       "      <td>a-00</td>\n",
       "      <td>1322</td>\n",
       "      <td>skinnerua</td>\n",
       "      <td>1261</td>\n",
       "      <td>d4 Nc6 e4 e5 f4 f6 dxe5 fxe5 fxe5 Nxe5 Qd4 Nc6...</td>\n",
       "      <td>B00</td>\n",
       "      <td>Nimzowitsch Defense: Kennedy Variation</td>\n",
       "      <td>4</td>\n",
       "    </tr>\n",
       "    <tr>\n",
       "      <th>2</th>\n",
       "      <td>mIICvQHh</td>\n",
       "      <td>True</td>\n",
       "      <td>1.504130e+12</td>\n",
       "      <td>1.504130e+12</td>\n",
       "      <td>61</td>\n",
       "      <td>mate</td>\n",
       "      <td>white</td>\n",
       "      <td>5+10</td>\n",
       "      <td>ischia</td>\n",
       "      <td>1496</td>\n",
       "      <td>a-00</td>\n",
       "      <td>1500</td>\n",
       "      <td>e4 e5 d3 d6 Be3 c6 Be2 b5 Nd2 a5 a4 c5 axb5 Nc...</td>\n",
       "      <td>C20</td>\n",
       "      <td>King's Pawn Game: Leonardis Variation</td>\n",
       "      <td>3</td>\n",
       "    </tr>\n",
       "    <tr>\n",
       "      <th>3</th>\n",
       "      <td>kWKvrqYL</td>\n",
       "      <td>True</td>\n",
       "      <td>1.504110e+12</td>\n",
       "      <td>1.504110e+12</td>\n",
       "      <td>61</td>\n",
       "      <td>mate</td>\n",
       "      <td>white</td>\n",
       "      <td>20+0</td>\n",
       "      <td>daniamurashov</td>\n",
       "      <td>1439</td>\n",
       "      <td>adivanov2009</td>\n",
       "      <td>1454</td>\n",
       "      <td>d4 d5 Nf3 Bf5 Nc3 Nf6 Bf4 Ng4 e3 Nc6 Be2 Qd7 O...</td>\n",
       "      <td>D02</td>\n",
       "      <td>Queen's Pawn Game: Zukertort Variation</td>\n",
       "      <td>3</td>\n",
       "    </tr>\n",
       "    <tr>\n",
       "      <th>4</th>\n",
       "      <td>9tXo1AUZ</td>\n",
       "      <td>True</td>\n",
       "      <td>1.504030e+12</td>\n",
       "      <td>1.504030e+12</td>\n",
       "      <td>95</td>\n",
       "      <td>mate</td>\n",
       "      <td>white</td>\n",
       "      <td>30+3</td>\n",
       "      <td>nik221107</td>\n",
       "      <td>1523</td>\n",
       "      <td>adivanov2009</td>\n",
       "      <td>1469</td>\n",
       "      <td>e4 e5 Nf3 d6 d4 Nc6 d5 Nb4 a3 Na6 Nc3 Be7 b4 N...</td>\n",
       "      <td>C41</td>\n",
       "      <td>Philidor Defense</td>\n",
       "      <td>5</td>\n",
       "    </tr>\n",
       "  </tbody>\n",
       "</table>\n",
       "</div>"
      ],
      "text/plain": [
       "         id  rated    created_at  last_move_at  turns victory_status winner  \\\n",
       "0  TZJHLljE  False  1.504210e+12  1.504210e+12     13      outoftime  white   \n",
       "1  l1NXvwaE   True  1.504130e+12  1.504130e+12     16         resign  black   \n",
       "2  mIICvQHh   True  1.504130e+12  1.504130e+12     61           mate  white   \n",
       "3  kWKvrqYL   True  1.504110e+12  1.504110e+12     61           mate  white   \n",
       "4  9tXo1AUZ   True  1.504030e+12  1.504030e+12     95           mate  white   \n",
       "\n",
       "  increment_code       white_id  white_rating      black_id  black_rating  \\\n",
       "0           15+2       bourgris          1500          a-00          1191   \n",
       "1           5+10           a-00          1322     skinnerua          1261   \n",
       "2           5+10         ischia          1496          a-00          1500   \n",
       "3           20+0  daniamurashov          1439  adivanov2009          1454   \n",
       "4           30+3      nik221107          1523  adivanov2009          1469   \n",
       "\n",
       "                                               moves opening_eco  \\\n",
       "0  d4 d5 c4 c6 cxd5 e6 dxe6 fxe6 Nf3 Bb4+ Nc3 Ba5...         D10   \n",
       "1  d4 Nc6 e4 e5 f4 f6 dxe5 fxe5 fxe5 Nxe5 Qd4 Nc6...         B00   \n",
       "2  e4 e5 d3 d6 Be3 c6 Be2 b5 Nd2 a5 a4 c5 axb5 Nc...         C20   \n",
       "3  d4 d5 Nf3 Bf5 Nc3 Nf6 Bf4 Ng4 e3 Nc6 Be2 Qd7 O...         D02   \n",
       "4  e4 e5 Nf3 d6 d4 Nc6 d5 Nb4 a3 Na6 Nc3 Be7 b4 N...         C41   \n",
       "\n",
       "                             opening_name  opening_ply  \n",
       "0        Slav Defense: Exchange Variation            5  \n",
       "1  Nimzowitsch Defense: Kennedy Variation            4  \n",
       "2   King's Pawn Game: Leonardis Variation            3  \n",
       "3  Queen's Pawn Game: Zukertort Variation            3  \n",
       "4                        Philidor Defense            5  "
      ]
     },
     "execution_count": 2,
     "metadata": {},
     "output_type": "execute_result"
    }
   ],
   "source": [
    "#importing dataset: https://www.kaggle.com/datasets/datasnaek/chess\n",
    "df = pd.read_csv(r'C:\\Users\\PV\\OneDrive\\Documents\\School\\Summer 2021-2022\\Programming for Data Science and Visualization\\Second Assignment - Data Analysis\\DataViz-Summer22-210040-Assignment2\\210040data\\games.csv')\n",
    "df.head(5) #checking the import"
   ]
  },
  {
   "cell_type": "markdown",
   "metadata": {},
   "source": [
    "## Data Exploration"
   ]
  },
  {
   "cell_type": "code",
   "execution_count": 3,
   "metadata": {},
   "outputs": [
    {
     "data": {
      "text/plain": [
       "Index(['id', 'rated', 'created_at', 'last_move_at', 'turns', 'victory_status',\n",
       "       'winner', 'increment_code', 'white_id', 'white_rating', 'black_id',\n",
       "       'black_rating', 'moves', 'opening_eco', 'opening_name', 'opening_ply'],\n",
       "      dtype='object')"
      ]
     },
     "execution_count": 3,
     "metadata": {},
     "output_type": "execute_result"
    }
   ],
   "source": [
    "#viewing the data columns\n",
    "df.columns"
   ]
  },
  {
   "cell_type": "markdown",
   "metadata": {},
   "source": [
    "Initial interpretation of the dataset:\n",
    "- **'id'**: the identification code of the match.\n",
    "- **'rated'**: whether the match is a rated (rank) math.\n",
    "- **'created_at'**: the time the match starts.\n",
    "- **'last_move_at'**: the time the match ends.\n",
    "- **'turn'**: the number of turns in the match. A turn in chess is completed when both players have made their moves.\n",
    "- **'victory_status'**: the way in which the match is won (by checkmate, time, etc.)\n",
    "- **'winner'**: the side that wins the match.\n",
    "- **'increment_code'**: time control.\n",
    "- **'white_id'**: the id of the white player.\n",
    "- **'white_rating'**: the rating (elo) of the white player.\n",
    "- **'black_id'**: the id of the black player.\n",
    "- **'black_rating'**: the rating (elo) of the black player.\n",
    "- **'moves'**: transcript of the moves in the match.\n",
    "- **'opening_eco'**: the opening of the match in ECO codes.\n",
    "- **'opening name'**: further identification of the opening variation.\n",
    "- **'opening_ply'**: the number of moves that follows masters' chess theory before deviating.\n"
   ]
  },
  {
   "cell_type": "code",
   "execution_count": 4,
   "metadata": {},
   "outputs": [],
   "source": [
    "#based on initial interpretation, rename the columns for better interpretability\n",
    "df.rename(columns = {'increment_code' : 'Time Control'}, inplace = True)\n",
    "df.columns = df.columns.str.replace('_' , ' ').str.title()\n"
   ]
  },
  {
   "cell_type": "code",
   "execution_count": 5,
   "metadata": {},
   "outputs": [
    {
     "data": {
      "text/html": [
       "<div>\n",
       "<style scoped>\n",
       "    .dataframe tbody tr th:only-of-type {\n",
       "        vertical-align: middle;\n",
       "    }\n",
       "\n",
       "    .dataframe tbody tr th {\n",
       "        vertical-align: top;\n",
       "    }\n",
       "\n",
       "    .dataframe thead th {\n",
       "        text-align: right;\n",
       "    }\n",
       "</style>\n",
       "<table border=\"1\" class=\"dataframe\">\n",
       "  <thead>\n",
       "    <tr style=\"text-align: right;\">\n",
       "      <th></th>\n",
       "      <th>Id</th>\n",
       "      <th>White Id</th>\n",
       "      <th>Black Id</th>\n",
       "    </tr>\n",
       "  </thead>\n",
       "  <tbody>\n",
       "    <tr>\n",
       "      <th>0</th>\n",
       "      <td>TZJHLljE</td>\n",
       "      <td>bourgris</td>\n",
       "      <td>a-00</td>\n",
       "    </tr>\n",
       "    <tr>\n",
       "      <th>1</th>\n",
       "      <td>l1NXvwaE</td>\n",
       "      <td>a-00</td>\n",
       "      <td>skinnerua</td>\n",
       "    </tr>\n",
       "    <tr>\n",
       "      <th>2</th>\n",
       "      <td>mIICvQHh</td>\n",
       "      <td>ischia</td>\n",
       "      <td>a-00</td>\n",
       "    </tr>\n",
       "    <tr>\n",
       "      <th>3</th>\n",
       "      <td>kWKvrqYL</td>\n",
       "      <td>daniamurashov</td>\n",
       "      <td>adivanov2009</td>\n",
       "    </tr>\n",
       "    <tr>\n",
       "      <th>4</th>\n",
       "      <td>9tXo1AUZ</td>\n",
       "      <td>nik221107</td>\n",
       "      <td>adivanov2009</td>\n",
       "    </tr>\n",
       "    <tr>\n",
       "      <th>...</th>\n",
       "      <td>...</td>\n",
       "      <td>...</td>\n",
       "      <td>...</td>\n",
       "    </tr>\n",
       "    <tr>\n",
       "      <th>20053</th>\n",
       "      <td>EfqH7VVH</td>\n",
       "      <td>belcolt</td>\n",
       "      <td>jamboger</td>\n",
       "    </tr>\n",
       "    <tr>\n",
       "      <th>20054</th>\n",
       "      <td>WSJDhbPl</td>\n",
       "      <td>jamboger</td>\n",
       "      <td>farrukhasomiddinov</td>\n",
       "    </tr>\n",
       "    <tr>\n",
       "      <th>20055</th>\n",
       "      <td>yrAas0Kj</td>\n",
       "      <td>jamboger</td>\n",
       "      <td>schaaksmurf3</td>\n",
       "    </tr>\n",
       "    <tr>\n",
       "      <th>20056</th>\n",
       "      <td>b0v4tRyF</td>\n",
       "      <td>marcodisogno</td>\n",
       "      <td>jamboger</td>\n",
       "    </tr>\n",
       "    <tr>\n",
       "      <th>20057</th>\n",
       "      <td>N8G2JHGG</td>\n",
       "      <td>jamboger</td>\n",
       "      <td>ffbob</td>\n",
       "    </tr>\n",
       "  </tbody>\n",
       "</table>\n",
       "<p>20058 rows × 3 columns</p>\n",
       "</div>"
      ],
      "text/plain": [
       "             Id       White Id            Black Id\n",
       "0      TZJHLljE       bourgris                a-00\n",
       "1      l1NXvwaE           a-00           skinnerua\n",
       "2      mIICvQHh         ischia                a-00\n",
       "3      kWKvrqYL  daniamurashov        adivanov2009\n",
       "4      9tXo1AUZ      nik221107        adivanov2009\n",
       "...         ...            ...                 ...\n",
       "20053  EfqH7VVH        belcolt            jamboger\n",
       "20054  WSJDhbPl       jamboger  farrukhasomiddinov\n",
       "20055  yrAas0Kj       jamboger        schaaksmurf3\n",
       "20056  b0v4tRyF   marcodisogno            jamboger\n",
       "20057  N8G2JHGG       jamboger               ffbob\n",
       "\n",
       "[20058 rows x 3 columns]"
      ]
     },
     "execution_count": 5,
     "metadata": {},
     "output_type": "execute_result"
    }
   ],
   "source": [
    "#viewing the columns with 'id' in it (...so that I can change them to 'ID') \n",
    "df.filter(like = 'Id')"
   ]
  },
  {
   "cell_type": "code",
   "execution_count": 6,
   "metadata": {},
   "outputs": [],
   "source": [
    "df.rename(columns = {'Id' : 'ID' , 'White Id' : 'White ID' , 'Black Id' : 'Black ID' , 'Created At' : 'Start' , 'Last Move At' : 'End'}, inplace = True)"
   ]
  },
  {
   "cell_type": "code",
   "execution_count": 7,
   "metadata": {},
   "outputs": [
    {
     "data": {
      "text/html": [
       "<div>\n",
       "<style scoped>\n",
       "    .dataframe tbody tr th:only-of-type {\n",
       "        vertical-align: middle;\n",
       "    }\n",
       "\n",
       "    .dataframe tbody tr th {\n",
       "        vertical-align: top;\n",
       "    }\n",
       "\n",
       "    .dataframe thead th {\n",
       "        text-align: right;\n",
       "    }\n",
       "</style>\n",
       "<table border=\"1\" class=\"dataframe\">\n",
       "  <thead>\n",
       "    <tr style=\"text-align: right;\">\n",
       "      <th></th>\n",
       "      <th>ID</th>\n",
       "      <th>Rated</th>\n",
       "      <th>Start</th>\n",
       "      <th>End</th>\n",
       "      <th>Turns</th>\n",
       "      <th>Victory Status</th>\n",
       "      <th>Winner</th>\n",
       "      <th>Time Control</th>\n",
       "      <th>White ID</th>\n",
       "      <th>White Rating</th>\n",
       "      <th>Black ID</th>\n",
       "      <th>Black Rating</th>\n",
       "      <th>Moves</th>\n",
       "      <th>Opening Eco</th>\n",
       "      <th>Opening Name</th>\n",
       "      <th>Opening Ply</th>\n",
       "    </tr>\n",
       "  </thead>\n",
       "  <tbody>\n",
       "    <tr>\n",
       "      <th>20055</th>\n",
       "      <td>yrAas0Kj</td>\n",
       "      <td>True</td>\n",
       "      <td>1.499698e+12</td>\n",
       "      <td>1.499698e+12</td>\n",
       "      <td>35</td>\n",
       "      <td>mate</td>\n",
       "      <td>white</td>\n",
       "      <td>10+0</td>\n",
       "      <td>jamboger</td>\n",
       "      <td>1219</td>\n",
       "      <td>schaaksmurf3</td>\n",
       "      <td>1286</td>\n",
       "      <td>d4 d5 Bf4 Nc6 e3 Nf6 c3 e6 Nf3 Be7 Bd3 O-O Nbd...</td>\n",
       "      <td>D00</td>\n",
       "      <td>Queen's Pawn Game: Mason Attack</td>\n",
       "      <td>3</td>\n",
       "    </tr>\n",
       "    <tr>\n",
       "      <th>20056</th>\n",
       "      <td>b0v4tRyF</td>\n",
       "      <td>True</td>\n",
       "      <td>1.499696e+12</td>\n",
       "      <td>1.499697e+12</td>\n",
       "      <td>109</td>\n",
       "      <td>resign</td>\n",
       "      <td>white</td>\n",
       "      <td>10+0</td>\n",
       "      <td>marcodisogno</td>\n",
       "      <td>1360</td>\n",
       "      <td>jamboger</td>\n",
       "      <td>1227</td>\n",
       "      <td>e4 d6 d4 Nf6 e5 dxe5 dxe5 Qxd1+ Kxd1 Nd5 c4 Nb...</td>\n",
       "      <td>B07</td>\n",
       "      <td>Pirc Defense</td>\n",
       "      <td>4</td>\n",
       "    </tr>\n",
       "    <tr>\n",
       "      <th>20057</th>\n",
       "      <td>N8G2JHGG</td>\n",
       "      <td>True</td>\n",
       "      <td>1.499643e+12</td>\n",
       "      <td>1.499644e+12</td>\n",
       "      <td>78</td>\n",
       "      <td>mate</td>\n",
       "      <td>black</td>\n",
       "      <td>10+0</td>\n",
       "      <td>jamboger</td>\n",
       "      <td>1235</td>\n",
       "      <td>ffbob</td>\n",
       "      <td>1339</td>\n",
       "      <td>d4 d5 Bf4 Na6 e3 e6 c3 Nf6 Nf3 Bd7 Nbd2 b5 Bd3...</td>\n",
       "      <td>D00</td>\n",
       "      <td>Queen's Pawn Game: Mason Attack</td>\n",
       "      <td>3</td>\n",
       "    </tr>\n",
       "  </tbody>\n",
       "</table>\n",
       "</div>"
      ],
      "text/plain": [
       "             ID  Rated         Start           End  Turns Victory Status  \\\n",
       "20055  yrAas0Kj   True  1.499698e+12  1.499698e+12     35           mate   \n",
       "20056  b0v4tRyF   True  1.499696e+12  1.499697e+12    109         resign   \n",
       "20057  N8G2JHGG   True  1.499643e+12  1.499644e+12     78           mate   \n",
       "\n",
       "      Winner Time Control      White ID  White Rating      Black ID  \\\n",
       "20055  white         10+0      jamboger          1219  schaaksmurf3   \n",
       "20056  white         10+0  marcodisogno          1360      jamboger   \n",
       "20057  black         10+0      jamboger          1235         ffbob   \n",
       "\n",
       "       Black Rating                                              Moves  \\\n",
       "20055          1286  d4 d5 Bf4 Nc6 e3 Nf6 c3 e6 Nf3 Be7 Bd3 O-O Nbd...   \n",
       "20056          1227  e4 d6 d4 Nf6 e5 dxe5 dxe5 Qxd1+ Kxd1 Nd5 c4 Nb...   \n",
       "20057          1339  d4 d5 Bf4 Na6 e3 e6 c3 Nf6 Nf3 Bd7 Nbd2 b5 Bd3...   \n",
       "\n",
       "      Opening Eco                     Opening Name  Opening Ply  \n",
       "20055         D00  Queen's Pawn Game: Mason Attack            3  \n",
       "20056         B07                     Pirc Defense            4  \n",
       "20057         D00  Queen's Pawn Game: Mason Attack            3  "
      ]
     },
     "execution_count": 7,
     "metadata": {},
     "output_type": "execute_result"
    }
   ],
   "source": [
    "# checking the relabeling of the data\n",
    "df.tail(3)"
   ]
  },
  {
   "cell_type": "code",
   "execution_count": 8,
   "metadata": {},
   "outputs": [
    {
     "data": {
      "text/plain": [
       "False"
      ]
     },
     "execution_count": 8,
     "metadata": {},
     "output_type": "execute_result"
    }
   ],
   "source": [
    "# Initial examination of the dataset shows that many matches have identical 'Start' and 'End', which is odd given my interpretation of the dataset.\n",
    "df['Start'] is df['End']"
   ]
  },
  {
   "cell_type": "code",
   "execution_count": 9,
   "metadata": {},
   "outputs": [
    {
     "data": {
      "text/plain": [
       "0.4261641240402832"
      ]
     },
     "execution_count": 9,
     "metadata": {},
     "output_type": "execute_result"
    }
   ],
   "source": [
    "len(df[df['Start'] == df['End']]) / len(df)"
   ]
  },
  {
   "cell_type": "markdown",
   "metadata": {},
   "source": [
    "Upon further examination, over 40% of the matches have identical 'Start' and 'End' values. This should mean that there is either a systemmatic oversight in data extraction or my interpretation is erroneous. Regardless, I decide to remove these two columns from the scope of this analysis. "
   ]
  },
  {
   "cell_type": "code",
   "execution_count": 10,
   "metadata": {},
   "outputs": [],
   "source": [
    "df.drop(columns = ['Start' , 'End'], inplace = True )"
   ]
  },
  {
   "cell_type": "code",
   "execution_count": 11,
   "metadata": {},
   "outputs": [
    {
     "data": {
      "text/plain": [
       "ID                0\n",
       "Rated             0\n",
       "Turns             0\n",
       "Victory Status    0\n",
       "Winner            0\n",
       "Time Control      0\n",
       "White ID          0\n",
       "White Rating      0\n",
       "Black ID          0\n",
       "Black Rating      0\n",
       "Moves             0\n",
       "Opening Eco       0\n",
       "Opening Name      0\n",
       "Opening Ply       0\n",
       "dtype: int64"
      ]
     },
     "execution_count": 11,
     "metadata": {},
     "output_type": "execute_result"
    }
   ],
   "source": [
    "# check for null values: the dataset does not have any null values\n",
    "df.isnull().sum()"
   ]
  },
  {
   "cell_type": "code",
   "execution_count": 12,
   "metadata": {},
   "outputs": [
    {
     "data": {
      "text/plain": [
       "0.04711337122345199"
      ]
     },
     "execution_count": 12,
     "metadata": {},
     "output_type": "execute_result"
    }
   ],
   "source": [
    "#handling duplicates\n",
    "x = df[df.duplicated()]\n",
    "len(x)/len(df)"
   ]
  },
  {
   "cell_type": "markdown",
   "metadata": {},
   "source": [
    "The number of duplicates is relatively small compared to the dataset so I simply remove them all (except for the first occurrence)."
   ]
  },
  {
   "cell_type": "code",
   "execution_count": 13,
   "metadata": {},
   "outputs": [],
   "source": [
    "df.drop_duplicates(inplace= True , ignore_index= True)"
   ]
  },
  {
   "cell_type": "code",
   "execution_count": 14,
   "metadata": {},
   "outputs": [
    {
     "data": {
      "text/html": [
       "<div>\n",
       "<style scoped>\n",
       "    .dataframe tbody tr th:only-of-type {\n",
       "        vertical-align: middle;\n",
       "    }\n",
       "\n",
       "    .dataframe tbody tr th {\n",
       "        vertical-align: top;\n",
       "    }\n",
       "\n",
       "    .dataframe thead th {\n",
       "        text-align: right;\n",
       "    }\n",
       "</style>\n",
       "<table border=\"1\" class=\"dataframe\">\n",
       "  <thead>\n",
       "    <tr style=\"text-align: right;\">\n",
       "      <th></th>\n",
       "      <th>ID</th>\n",
       "      <th>Rated</th>\n",
       "      <th>Turns</th>\n",
       "      <th>Victory Status</th>\n",
       "      <th>Winner</th>\n",
       "      <th>Time Control</th>\n",
       "      <th>White ID</th>\n",
       "      <th>White Rating</th>\n",
       "      <th>Black ID</th>\n",
       "      <th>Black Rating</th>\n",
       "      <th>Moves</th>\n",
       "      <th>Opening Eco</th>\n",
       "      <th>Opening Name</th>\n",
       "      <th>Opening Ply</th>\n",
       "    </tr>\n",
       "  </thead>\n",
       "  <tbody>\n",
       "    <tr>\n",
       "      <th>0</th>\n",
       "      <td>TZJHLljE</td>\n",
       "      <td>False</td>\n",
       "      <td>13</td>\n",
       "      <td>outoftime</td>\n",
       "      <td>white</td>\n",
       "      <td>15+2</td>\n",
       "      <td>bourgris</td>\n",
       "      <td>1500</td>\n",
       "      <td>a-00</td>\n",
       "      <td>1191</td>\n",
       "      <td>d4 d5 c4 c6 cxd5 e6 dxe6 fxe6 Nf3 Bb4+ Nc3 Ba5...</td>\n",
       "      <td>D10</td>\n",
       "      <td>Slav Defense: Exchange Variation</td>\n",
       "      <td>5</td>\n",
       "    </tr>\n",
       "    <tr>\n",
       "      <th>1</th>\n",
       "      <td>l1NXvwaE</td>\n",
       "      <td>True</td>\n",
       "      <td>16</td>\n",
       "      <td>resign</td>\n",
       "      <td>black</td>\n",
       "      <td>5+10</td>\n",
       "      <td>a-00</td>\n",
       "      <td>1322</td>\n",
       "      <td>skinnerua</td>\n",
       "      <td>1261</td>\n",
       "      <td>d4 Nc6 e4 e5 f4 f6 dxe5 fxe5 fxe5 Nxe5 Qd4 Nc6...</td>\n",
       "      <td>B00</td>\n",
       "      <td>Nimzowitsch Defense: Kennedy Variation</td>\n",
       "      <td>4</td>\n",
       "    </tr>\n",
       "    <tr>\n",
       "      <th>2</th>\n",
       "      <td>mIICvQHh</td>\n",
       "      <td>True</td>\n",
       "      <td>61</td>\n",
       "      <td>mate</td>\n",
       "      <td>white</td>\n",
       "      <td>5+10</td>\n",
       "      <td>ischia</td>\n",
       "      <td>1496</td>\n",
       "      <td>a-00</td>\n",
       "      <td>1500</td>\n",
       "      <td>e4 e5 d3 d6 Be3 c6 Be2 b5 Nd2 a5 a4 c5 axb5 Nc...</td>\n",
       "      <td>C20</td>\n",
       "      <td>King's Pawn Game: Leonardis Variation</td>\n",
       "      <td>3</td>\n",
       "    </tr>\n",
       "    <tr>\n",
       "      <th>3</th>\n",
       "      <td>kWKvrqYL</td>\n",
       "      <td>True</td>\n",
       "      <td>61</td>\n",
       "      <td>mate</td>\n",
       "      <td>white</td>\n",
       "      <td>20+0</td>\n",
       "      <td>daniamurashov</td>\n",
       "      <td>1439</td>\n",
       "      <td>adivanov2009</td>\n",
       "      <td>1454</td>\n",
       "      <td>d4 d5 Nf3 Bf5 Nc3 Nf6 Bf4 Ng4 e3 Nc6 Be2 Qd7 O...</td>\n",
       "      <td>D02</td>\n",
       "      <td>Queen's Pawn Game: Zukertort Variation</td>\n",
       "      <td>3</td>\n",
       "    </tr>\n",
       "    <tr>\n",
       "      <th>4</th>\n",
       "      <td>9tXo1AUZ</td>\n",
       "      <td>True</td>\n",
       "      <td>95</td>\n",
       "      <td>mate</td>\n",
       "      <td>white</td>\n",
       "      <td>30+3</td>\n",
       "      <td>nik221107</td>\n",
       "      <td>1523</td>\n",
       "      <td>adivanov2009</td>\n",
       "      <td>1469</td>\n",
       "      <td>e4 e5 Nf3 d6 d4 Nc6 d5 Nb4 a3 Na6 Nc3 Be7 b4 N...</td>\n",
       "      <td>C41</td>\n",
       "      <td>Philidor Defense</td>\n",
       "      <td>5</td>\n",
       "    </tr>\n",
       "  </tbody>\n",
       "</table>\n",
       "</div>"
      ],
      "text/plain": [
       "         ID  Rated  Turns Victory Status Winner Time Control       White ID  \\\n",
       "0  TZJHLljE  False     13      outoftime  white         15+2       bourgris   \n",
       "1  l1NXvwaE   True     16         resign  black         5+10           a-00   \n",
       "2  mIICvQHh   True     61           mate  white         5+10         ischia   \n",
       "3  kWKvrqYL   True     61           mate  white         20+0  daniamurashov   \n",
       "4  9tXo1AUZ   True     95           mate  white         30+3      nik221107   \n",
       "\n",
       "   White Rating      Black ID  Black Rating  \\\n",
       "0          1500          a-00          1191   \n",
       "1          1322     skinnerua          1261   \n",
       "2          1496          a-00          1500   \n",
       "3          1439  adivanov2009          1454   \n",
       "4          1523  adivanov2009          1469   \n",
       "\n",
       "                                               Moves Opening Eco  \\\n",
       "0  d4 d5 c4 c6 cxd5 e6 dxe6 fxe6 Nf3 Bb4+ Nc3 Ba5...         D10   \n",
       "1  d4 Nc6 e4 e5 f4 f6 dxe5 fxe5 fxe5 Nxe5 Qd4 Nc6...         B00   \n",
       "2  e4 e5 d3 d6 Be3 c6 Be2 b5 Nd2 a5 a4 c5 axb5 Nc...         C20   \n",
       "3  d4 d5 Nf3 Bf5 Nc3 Nf6 Bf4 Ng4 e3 Nc6 Be2 Qd7 O...         D02   \n",
       "4  e4 e5 Nf3 d6 d4 Nc6 d5 Nb4 a3 Na6 Nc3 Be7 b4 N...         C41   \n",
       "\n",
       "                             Opening Name  Opening Ply  \n",
       "0        Slav Defense: Exchange Variation            5  \n",
       "1  Nimzowitsch Defense: Kennedy Variation            4  \n",
       "2   King's Pawn Game: Leonardis Variation            3  \n",
       "3  Queen's Pawn Game: Zukertort Variation            3  \n",
       "4                        Philidor Defense            5  "
      ]
     },
     "execution_count": 14,
     "metadata": {},
     "output_type": "execute_result"
    }
   ],
   "source": [
    "# The dataframe after cleaning:\n",
    "df.head(5)"
   ]
  },
  {
   "cell_type": "markdown",
   "metadata": {},
   "source": [
    "## Data Analysis"
   ]
  },
  {
   "cell_type": "markdown",
   "metadata": {},
   "source": [
    "### General Analysis"
   ]
  },
  {
   "cell_type": "code",
   "execution_count": 15,
   "metadata": {},
   "outputs": [
    {
     "data": {
      "text/html": [
       "<div>\n",
       "<style scoped>\n",
       "    .dataframe tbody tr th:only-of-type {\n",
       "        vertical-align: middle;\n",
       "    }\n",
       "\n",
       "    .dataframe tbody tr th {\n",
       "        vertical-align: top;\n",
       "    }\n",
       "\n",
       "    .dataframe thead th {\n",
       "        text-align: right;\n",
       "    }\n",
       "</style>\n",
       "<table border=\"1\" class=\"dataframe\">\n",
       "  <thead>\n",
       "    <tr style=\"text-align: right;\">\n",
       "      <th></th>\n",
       "      <th>Turns</th>\n",
       "      <th>White Rating</th>\n",
       "      <th>Black Rating</th>\n",
       "      <th>Opening Ply</th>\n",
       "    </tr>\n",
       "  </thead>\n",
       "  <tbody>\n",
       "    <tr>\n",
       "      <th>count</th>\n",
       "      <td>19113.000000</td>\n",
       "      <td>19113.000000</td>\n",
       "      <td>19113.000000</td>\n",
       "      <td>19113.000000</td>\n",
       "    </tr>\n",
       "    <tr>\n",
       "      <th>mean</th>\n",
       "      <td>60.513839</td>\n",
       "      <td>1597.300005</td>\n",
       "      <td>1590.045519</td>\n",
       "      <td>4.815780</td>\n",
       "    </tr>\n",
       "    <tr>\n",
       "      <th>std</th>\n",
       "      <td>33.488264</td>\n",
       "      <td>290.022740</td>\n",
       "      <td>290.441694</td>\n",
       "      <td>2.798283</td>\n",
       "    </tr>\n",
       "    <tr>\n",
       "      <th>min</th>\n",
       "      <td>1.000000</td>\n",
       "      <td>784.000000</td>\n",
       "      <td>789.000000</td>\n",
       "      <td>1.000000</td>\n",
       "    </tr>\n",
       "    <tr>\n",
       "      <th>25%</th>\n",
       "      <td>37.000000</td>\n",
       "      <td>1401.000000</td>\n",
       "      <td>1394.000000</td>\n",
       "      <td>3.000000</td>\n",
       "    </tr>\n",
       "    <tr>\n",
       "      <th>50%</th>\n",
       "      <td>55.000000</td>\n",
       "      <td>1567.000000</td>\n",
       "      <td>1563.000000</td>\n",
       "      <td>4.000000</td>\n",
       "    </tr>\n",
       "    <tr>\n",
       "      <th>75%</th>\n",
       "      <td>79.000000</td>\n",
       "      <td>1792.000000</td>\n",
       "      <td>1785.000000</td>\n",
       "      <td>6.000000</td>\n",
       "    </tr>\n",
       "    <tr>\n",
       "      <th>max</th>\n",
       "      <td>349.000000</td>\n",
       "      <td>2700.000000</td>\n",
       "      <td>2723.000000</td>\n",
       "      <td>28.000000</td>\n",
       "    </tr>\n",
       "  </tbody>\n",
       "</table>\n",
       "</div>"
      ],
      "text/plain": [
       "              Turns  White Rating  Black Rating   Opening Ply\n",
       "count  19113.000000  19113.000000  19113.000000  19113.000000\n",
       "mean      60.513839   1597.300005   1590.045519      4.815780\n",
       "std       33.488264    290.022740    290.441694      2.798283\n",
       "min        1.000000    784.000000    789.000000      1.000000\n",
       "25%       37.000000   1401.000000   1394.000000      3.000000\n",
       "50%       55.000000   1567.000000   1563.000000      4.000000\n",
       "75%       79.000000   1792.000000   1785.000000      6.000000\n",
       "max      349.000000   2700.000000   2723.000000     28.000000"
      ]
     },
     "execution_count": 15,
     "metadata": {},
     "output_type": "execute_result"
    }
   ],
   "source": [
    "df.describe()"
   ]
  },
  {
   "cell_type": "code",
   "execution_count": 16,
   "metadata": {},
   "outputs": [
    {
     "data": {
      "text/plain": [
       "ID                object\n",
       "Rated               bool\n",
       "Turns              int64\n",
       "Victory Status    object\n",
       "Winner            object\n",
       "Time Control      object\n",
       "White ID          object\n",
       "White Rating       int64\n",
       "Black ID          object\n",
       "Black Rating       int64\n",
       "Moves             object\n",
       "Opening Eco       object\n",
       "Opening Name      object\n",
       "Opening Ply        int64\n",
       "dtype: object"
      ]
     },
     "execution_count": 16,
     "metadata": {},
     "output_type": "execute_result"
    }
   ],
   "source": [
    "df.dtypes"
   ]
  },
  {
   "cell_type": "markdown",
   "metadata": {},
   "source": [
    "### Some Column-specific Analyses"
   ]
  },
  {
   "cell_type": "code",
   "execution_count": 33,
   "metadata": {},
   "outputs": [
    {
     "data": {
      "text/plain": [
       "white    9545\n",
       "black    8680\n",
       "draw      888\n",
       "Name: Winner, dtype: int64"
      ]
     },
     "execution_count": 33,
     "metadata": {},
     "output_type": "execute_result"
    }
   ],
   "source": [
    "df['Winner'].value_counts()"
   ]
  },
  {
   "cell_type": "markdown",
   "metadata": {},
   "source": [
    "It seems white has a slight advantage over black."
   ]
  },
  {
   "cell_type": "code",
   "execution_count": 17,
   "metadata": {},
   "outputs": [
    {
     "data": {
      "text/plain": [
       "0.80923978443991"
      ]
     },
     "execution_count": 17,
     "metadata": {},
     "output_type": "execute_result"
    }
   ],
   "source": [
    "len(df[df['Rated'] == True]) / (len(df[df['Rated'] == True]) + len(df[df['Rated'] == False]))"
   ]
  },
  {
   "cell_type": "markdown",
   "metadata": {},
   "source": [
    "$ \\rightarrow$ The overwhelming majority (81%) of the recorded games are rank matches."
   ]
  },
  {
   "cell_type": "code",
   "execution_count": 18,
   "metadata": {},
   "outputs": [
    {
     "data": {
      "text/plain": [
       "resign       10695\n",
       "mate          5974\n",
       "outoftime     1598\n",
       "draw           846\n",
       "Name: Victory Status, dtype: int64"
      ]
     },
     "execution_count": 18,
     "metadata": {},
     "output_type": "execute_result"
    }
   ],
   "source": [
    "df['Victory Status'].value_counts()"
   ]
  },
  {
   "cell_type": "code",
   "execution_count": 19,
   "metadata": {},
   "outputs": [
    {
     "data": {
      "image/png": "[encoded data removed]",
      "text/plain": [
       "<Figure size 432x288 with 1 Axes>"
      ]
     },
     "metadata": {},
     "output_type": "display_data"
    }
   ],
   "source": [
    "df['Victory Status'].value_counts().plot(kind = 'pie')\n",
    "plt.show()"
   ]
  },
  {
   "cell_type": "markdown",
   "metadata": {},
   "source": [
    "$ \\rightarrow$ The overwhelming majority of wins is from resignations, followed by checkmates, time and draw."
   ]
  },
  {
   "cell_type": "code",
   "execution_count": 20,
   "metadata": {},
   "outputs": [
    {
     "data": {
      "text/plain": [
       "365"
      ]
     },
     "execution_count": 20,
     "metadata": {},
     "output_type": "execute_result"
    }
   ],
   "source": [
    "df['Opening Eco'].nunique()"
   ]
  },
  {
   "cell_type": "markdown",
   "metadata": {},
   "source": [
    "There are 365 unique codes recorded, which means that there are 365 different openings played in the 20000 games."
   ]
  },
  {
   "cell_type": "code",
   "execution_count": 21,
   "metadata": {},
   "outputs": [
    {
     "data": {
      "text/plain": [
       "A00    948\n",
       "C00    810\n",
       "D00    701\n",
       "B01    688\n",
       "C41    650\n",
       "      ... \n",
       "C32      1\n",
       "A67      1\n",
       "E18      1\n",
       "D95      1\n",
       "D19      1\n",
       "Name: Opening Eco, Length: 365, dtype: int64"
      ]
     },
     "execution_count": 21,
     "metadata": {},
     "output_type": "execute_result"
    }
   ],
   "source": [
    "df['Opening Eco'].value_counts()"
   ]
  },
  {
   "cell_type": "markdown",
   "metadata": {},
   "source": [
    "$\\rightarrow$ The Polish Opening (A00) and its variations are played the most, with 948 games played, followed by the French Defence (C00) and Queen's Pawn Game."
   ]
  },
  {
   "cell_type": "code",
   "execution_count": 22,
   "metadata": {},
   "outputs": [
    {
     "data": {
      "image/png": "[encoded data removed]",
      "text/plain": [
       "<Figure size 936x576 with 1 Axes>"
      ]
     },
     "metadata": {
      "needs_background": "light"
     },
     "output_type": "display_data"
    }
   ],
   "source": [
    "plt.figure(figsize = (13 , 8))\n",
    "df['Opening Eco'].value_counts().head(30).plot.bar(grid = True, alpha = 0.5, color = 'b')\n",
    "plt.axhline (df['Opening Eco'].value_counts().mean(), color = 'r', linestyle = '--')\n",
    "plt.show()"
   ]
  },
  {
   "cell_type": "code",
   "execution_count": 23,
   "metadata": {},
   "outputs": [
    {
     "data": {
      "text/plain": [
       "1477"
      ]
     },
     "execution_count": 23,
     "metadata": {},
     "output_type": "execute_result"
    }
   ],
   "source": [
    "df['Opening Name'].nunique()"
   ]
  },
  {
   "cell_type": "code",
   "execution_count": 24,
   "metadata": {},
   "outputs": [
    {
     "data": {
      "image/png": "[encoded data removed]",
      "text/plain": [
       "<Figure size 936x576 with 1 Axes>"
      ]
     },
     "metadata": {
      "needs_background": "light"
     },
     "output_type": "display_data"
    }
   ],
   "source": [
    "# The most popular opening variation\n",
    "plt.figure (figsize = (13 , 8))\n",
    "df['Opening Name'].value_counts().head(30).plot.bar(grid = True, alpha = 0.5, color = 'b')\n",
    "plt.show()"
   ]
  },
  {
   "cell_type": "markdown",
   "metadata": {},
   "source": [
    "Surprisingly, the most popular opening variation played is the standard Siciliant Defence while only the standard Queen's Pawn is only the $25^{th}$ most played opening variation."
   ]
  },
  {
   "cell_type": "code",
   "execution_count": 25,
   "metadata": {},
   "outputs": [
    {
     "data": {
      "image/png": "[encoded data removed]",
      "text/plain": [
       "<Figure size 720x504 with 1 Axes>"
      ]
     },
     "metadata": {
      "needs_background": "light"
     },
     "output_type": "display_data"
    },
    {
     "data": {
      "text/plain": [
       "<Figure size 432x288 with 0 Axes>"
      ]
     },
     "metadata": {},
     "output_type": "display_data"
    }
   ],
   "source": [
    "plt.figure (figsize = (10 , 7))\n",
    "plt.hist(df['Turns'] , bins= np.arange(df['Turns'].min(), df['Turns']. max(), 5),alpha = 0.8 , linewidth = 1 , edgecolor = 'k' )\n",
    "plt.show()\n",
    "plt.tight_layout()"
   ]
  },
  {
   "cell_type": "markdown",
   "metadata": {},
   "source": [
    "The majority of matches contains around 50 turns."
   ]
  },
  {
   "cell_type": "code",
   "execution_count": 26,
   "metadata": {},
   "outputs": [
    {
     "data": {
      "text/plain": [
       "400"
      ]
     },
     "execution_count": 26,
     "metadata": {},
     "output_type": "execute_result"
    }
   ],
   "source": [
    "df['Time Control'].nunique()"
   ]
  },
  {
   "cell_type": "markdown",
   "metadata": {},
   "source": [
    "There are 400 kinds of time control in the recorded games. "
   ]
  },
  {
   "cell_type": "code",
   "execution_count": 27,
   "metadata": {},
   "outputs": [
    {
     "data": {
      "text/plain": [
       "10+0     7356\n",
       "15+0     1258\n",
       "15+15     821\n",
       "5+5       723\n",
       "5+8       678\n",
       "8+0       563\n",
       "10+5      534\n",
       "15+10     430\n",
       "20+0      428\n",
       "30+0      360\n",
       "10+10     324\n",
       "15+5      299\n",
       "7+2       217\n",
       "10+2      180\n",
       "30+30     160\n",
       "5+10      152\n",
       "10+3      145\n",
       "25+0      141\n",
       "10+8      123\n",
       "20+10     101\n",
       "Name: Time Control, dtype: int64"
      ]
     },
     "execution_count": 27,
     "metadata": {},
     "output_type": "execute_result"
    }
   ],
   "source": [
    "df['Time Control'].value_counts().head(20)"
   ]
  },
  {
   "cell_type": "markdown",
   "metadata": {},
   "source": [
    "Blitz and Rapid time controls are the most popular."
   ]
  },
  {
   "cell_type": "markdown",
   "metadata": {},
   "source": [
    "### Some Cross-column Analyses"
   ]
  },
  {
   "cell_type": "code",
   "execution_count": 28,
   "metadata": {},
   "outputs": [
    {
     "data": {
      "text/plain": [
       "7.254486475173965"
      ]
     },
     "execution_count": 28,
     "metadata": {},
     "output_type": "execute_result"
    }
   ],
   "source": [
    "# recording the elo difference between players\n",
    "df['Elo Difference'] = df['White Rating'] - df['Black Rating']\n",
    "df['Elo Difference'].mean()"
   ]
  },
  {
   "cell_type": "code",
   "execution_count": 29,
   "metadata": {},
   "outputs": [
    {
     "name": "stdout",
     "output_type": "stream",
     "text": [
      "0.10480377578069439\n"
     ]
    },
    {
     "name": "stderr",
     "output_type": "stream",
     "text": [
      "C:\\Users\\PV\\AppData\\Local\\Temp\\ipykernel_25104\\214784688.py:1: UserWarning: Boolean Series key will be reindexed to match DataFrame index.\n",
      "  print(len(df[df['Elo Difference'] > 250][df['Rated'] == True]) / len(df[df['Rated'] == True]))\n"
     ]
    }
   ],
   "source": [
    "print(len(df[df['Elo Difference'] > 250][df['Rated'] == True]) / len(df[df['Rated'] == True]))"
   ]
  },
  {
   "cell_type": "code",
   "execution_count": 30,
   "metadata": {},
   "outputs": [
    {
     "data": {
      "image/png": "[encoded data removed]",
      "text/plain": [
       "<Figure size 432x288 with 1 Axes>"
      ]
     },
     "metadata": {
      "needs_background": "light"
     },
     "output_type": "display_data"
    }
   ],
   "source": [
    "plt.hist(df['Elo Difference'] , bins= np.arange(df['Elo Difference'].min(), df['Elo Difference']. max(), 50),alpha = 0.8 , linewidth = 1 , edgecolor = 'k' )\n",
    "plt.show()"
   ]
  },
  {
   "cell_type": "markdown",
   "metadata": {},
   "source": [
    "Elo difference between the two players roughly follow a normal distribution with its base being 0 and the mean lies around 7. The ranked matches with elo difference greater than 250 is only 10% of the total number of rank match. This can be a indicator of the efficiency of lichess' (which is where this data come from) match-making algorithm."
   ]
  },
  {
   "cell_type": "code",
   "execution_count": 31,
   "metadata": {},
   "outputs": [],
   "source": [
    "df['Match Elo'] = (df['White Rating'] + df['Black Rating'])/2"
   ]
  },
  {
   "cell_type": "code",
   "execution_count": 39,
   "metadata": {},
   "outputs": [],
   "source": [
    "newbie_mat = df[df['Match Elo'] < 1400]\n",
    "inter_mat = df[(df['Match Elo'] >= 1400) & (df['Match Elo'] < 1800)]\n",
    "adv_mat = df[df['Match Elo'] >= 1800]"
   ]
  },
  {
   "cell_type": "code",
   "execution_count": 44,
   "metadata": {},
   "outputs": [
    {
     "data": {
      "image/png": "[encoded data removed]",
      "text/plain": [
       "<Figure size 432x288 with 1 Axes>"
      ]
     },
     "metadata": {},
     "output_type": "display_data"
    }
   ],
   "source": [
    "plt.pie([len(newbie_mat), len(inter_mat) , len(adv_mat)] , labels = ['Newbie' , 'Intermediate' , 'Advanced'], autopct= '%.2f%%')\n",
    "plt.show()"
   ]
  },
  {
   "cell_type": "markdown",
   "metadata": {},
   "source": [
    "This aligns with the expected distribution of matches with the majority being the in the intermediate level."
   ]
  },
  {
   "cell_type": "code",
   "execution_count": 83,
   "metadata": {},
   "outputs": [
    {
     "data": {
      "text/html": [
       "<div>\n",
       "<style scoped>\n",
       "    .dataframe tbody tr th:only-of-type {\n",
       "        vertical-align: middle;\n",
       "    }\n",
       "\n",
       "    .dataframe tbody tr th {\n",
       "        vertical-align: top;\n",
       "    }\n",
       "\n",
       "    .dataframe thead th {\n",
       "        text-align: right;\n",
       "    }\n",
       "</style>\n",
       "<table border=\"1\" class=\"dataframe\">\n",
       "  <thead>\n",
       "    <tr style=\"text-align: right;\">\n",
       "      <th></th>\n",
       "      <th>Turns</th>\n",
       "      <th>White Rating</th>\n",
       "      <th>Black Rating</th>\n",
       "      <th>Opening Ply</th>\n",
       "      <th>Elo Difference</th>\n",
       "      <th>Match Elo</th>\n",
       "    </tr>\n",
       "  </thead>\n",
       "  <tbody>\n",
       "    <tr>\n",
       "      <th>count</th>\n",
       "      <td>4533.000000</td>\n",
       "      <td>4533.000000</td>\n",
       "      <td>4533.000000</td>\n",
       "      <td>4533.000000</td>\n",
       "      <td>4533.000000</td>\n",
       "      <td>4533.000000</td>\n",
       "    </tr>\n",
       "    <tr>\n",
       "      <th>mean</th>\n",
       "      <td>52.722259</td>\n",
       "      <td>1271.685418</td>\n",
       "      <td>1261.614163</td>\n",
       "      <td>3.865872</td>\n",
       "      <td>10.071255</td>\n",
       "      <td>1266.649790</td>\n",
       "    </tr>\n",
       "    <tr>\n",
       "      <th>std</th>\n",
       "      <td>32.113935</td>\n",
       "      <td>156.094973</td>\n",
       "      <td>157.537743</td>\n",
       "      <td>2.096021</td>\n",
       "      <td>233.053476</td>\n",
       "      <td>104.944794</td>\n",
       "    </tr>\n",
       "    <tr>\n",
       "      <th>min</th>\n",
       "      <td>1.000000</td>\n",
       "      <td>784.000000</td>\n",
       "      <td>789.000000</td>\n",
       "      <td>1.000000</td>\n",
       "      <td>-919.000000</td>\n",
       "      <td>816.500000</td>\n",
       "    </tr>\n",
       "    <tr>\n",
       "      <th>25%</th>\n",
       "      <td>29.000000</td>\n",
       "      <td>1169.000000</td>\n",
       "      <td>1163.000000</td>\n",
       "      <td>2.000000</td>\n",
       "      <td>-118.000000</td>\n",
       "      <td>1202.000000</td>\n",
       "    </tr>\n",
       "    <tr>\n",
       "      <th>50%</th>\n",
       "      <td>49.000000</td>\n",
       "      <td>1283.000000</td>\n",
       "      <td>1273.000000</td>\n",
       "      <td>4.000000</td>\n",
       "      <td>3.000000</td>\n",
       "      <td>1292.000000</td>\n",
       "    </tr>\n",
       "    <tr>\n",
       "      <th>75%</th>\n",
       "      <td>71.000000</td>\n",
       "      <td>1374.000000</td>\n",
       "      <td>1366.000000</td>\n",
       "      <td>5.000000</td>\n",
       "      <td>144.000000</td>\n",
       "      <td>1352.000000</td>\n",
       "    </tr>\n",
       "    <tr>\n",
       "      <th>max</th>\n",
       "      <td>209.000000</td>\n",
       "      <td>1916.000000</td>\n",
       "      <td>1793.000000</td>\n",
       "      <td>18.000000</td>\n",
       "      <td>1073.000000</td>\n",
       "      <td>1399.500000</td>\n",
       "    </tr>\n",
       "  </tbody>\n",
       "</table>\n",
       "</div>"
      ],
      "text/plain": [
       "             Turns  White Rating  Black Rating  Opening Ply  Elo Difference  \\\n",
       "count  4533.000000   4533.000000   4533.000000  4533.000000     4533.000000   \n",
       "mean     52.722259   1271.685418   1261.614163     3.865872       10.071255   \n",
       "std      32.113935    156.094973    157.537743     2.096021      233.053476   \n",
       "min       1.000000    784.000000    789.000000     1.000000     -919.000000   \n",
       "25%      29.000000   1169.000000   1163.000000     2.000000     -118.000000   \n",
       "50%      49.000000   1283.000000   1273.000000     4.000000        3.000000   \n",
       "75%      71.000000   1374.000000   1366.000000     5.000000      144.000000   \n",
       "max     209.000000   1916.000000   1793.000000    18.000000     1073.000000   \n",
       "\n",
       "         Match Elo  \n",
       "count  4533.000000  \n",
       "mean   1266.649790  \n",
       "std     104.944794  \n",
       "min     816.500000  \n",
       "25%    1202.000000  \n",
       "50%    1292.000000  \n",
       "75%    1352.000000  \n",
       "max    1399.500000  "
      ]
     },
     "execution_count": 83,
     "metadata": {},
     "output_type": "execute_result"
    }
   ],
   "source": [
    "#comparing the stats between newbies and advanced players\n",
    "newbie_mat.describe()"
   ]
  },
  {
   "cell_type": "code",
   "execution_count": 85,
   "metadata": {},
   "outputs": [
    {
     "data": {
      "text/html": [
       "<div>\n",
       "<style scoped>\n",
       "    .dataframe tbody tr th:only-of-type {\n",
       "        vertical-align: middle;\n",
       "    }\n",
       "\n",
       "    .dataframe tbody tr th {\n",
       "        vertical-align: top;\n",
       "    }\n",
       "\n",
       "    .dataframe thead th {\n",
       "        text-align: right;\n",
       "    }\n",
       "</style>\n",
       "<table border=\"1\" class=\"dataframe\">\n",
       "  <thead>\n",
       "    <tr style=\"text-align: right;\">\n",
       "      <th></th>\n",
       "      <th>Turns</th>\n",
       "      <th>White Rating</th>\n",
       "      <th>Black Rating</th>\n",
       "      <th>Opening Ply</th>\n",
       "      <th>Elo Difference</th>\n",
       "      <th>Match Elo</th>\n",
       "    </tr>\n",
       "  </thead>\n",
       "  <tbody>\n",
       "    <tr>\n",
       "      <th>count</th>\n",
       "      <td>10312.000000</td>\n",
       "      <td>10312.000000</td>\n",
       "      <td>10312.000000</td>\n",
       "      <td>10312.000000</td>\n",
       "      <td>10312.000000</td>\n",
       "      <td>10312.000000</td>\n",
       "    </tr>\n",
       "    <tr>\n",
       "      <th>mean</th>\n",
       "      <td>61.095520</td>\n",
       "      <td>1587.543445</td>\n",
       "      <td>1581.071955</td>\n",
       "      <td>4.744957</td>\n",
       "      <td>6.471490</td>\n",
       "      <td>1584.307700</td>\n",
       "    </tr>\n",
       "    <tr>\n",
       "      <th>std</th>\n",
       "      <td>32.924787</td>\n",
       "      <td>162.545412</td>\n",
       "      <td>162.716189</td>\n",
       "      <td>2.568832</td>\n",
       "      <td>238.166083</td>\n",
       "      <td>110.761067</td>\n",
       "    </tr>\n",
       "    <tr>\n",
       "      <th>min</th>\n",
       "      <td>1.000000</td>\n",
       "      <td>846.000000</td>\n",
       "      <td>946.000000</td>\n",
       "      <td>1.000000</td>\n",
       "      <td>-1290.000000</td>\n",
       "      <td>1400.000000</td>\n",
       "    </tr>\n",
       "    <tr>\n",
       "      <th>25%</th>\n",
       "      <td>38.000000</td>\n",
       "      <td>1492.000000</td>\n",
       "      <td>1483.000000</td>\n",
       "      <td>3.000000</td>\n",
       "      <td>-99.000000</td>\n",
       "      <td>1493.500000</td>\n",
       "    </tr>\n",
       "    <tr>\n",
       "      <th>50%</th>\n",
       "      <td>56.000000</td>\n",
       "      <td>1572.000000</td>\n",
       "      <td>1567.000000</td>\n",
       "      <td>4.000000</td>\n",
       "      <td>2.000000</td>\n",
       "      <td>1574.500000</td>\n",
       "    </tr>\n",
       "    <tr>\n",
       "      <th>75%</th>\n",
       "      <td>79.000000</td>\n",
       "      <td>1698.000000</td>\n",
       "      <td>1692.000000</td>\n",
       "      <td>6.000000</td>\n",
       "      <td>112.000000</td>\n",
       "      <td>1676.500000</td>\n",
       "    </tr>\n",
       "    <tr>\n",
       "      <th>max</th>\n",
       "      <td>259.000000</td>\n",
       "      <td>2449.000000</td>\n",
       "      <td>2344.000000</td>\n",
       "      <td>28.000000</td>\n",
       "      <td>1492.000000</td>\n",
       "      <td>1799.500000</td>\n",
       "    </tr>\n",
       "  </tbody>\n",
       "</table>\n",
       "</div>"
      ],
      "text/plain": [
       "              Turns  White Rating  Black Rating   Opening Ply  Elo Difference  \\\n",
       "count  10312.000000  10312.000000  10312.000000  10312.000000    10312.000000   \n",
       "mean      61.095520   1587.543445   1581.071955      4.744957        6.471490   \n",
       "std       32.924787    162.545412    162.716189      2.568832      238.166083   \n",
       "min        1.000000    846.000000    946.000000      1.000000    -1290.000000   \n",
       "25%       38.000000   1492.000000   1483.000000      3.000000      -99.000000   \n",
       "50%       56.000000   1572.000000   1567.000000      4.000000        2.000000   \n",
       "75%       79.000000   1698.000000   1692.000000      6.000000      112.000000   \n",
       "max      259.000000   2449.000000   2344.000000     28.000000     1492.000000   \n",
       "\n",
       "          Match Elo  \n",
       "count  10312.000000  \n",
       "mean    1584.307700  \n",
       "std      110.761067  \n",
       "min     1400.000000  \n",
       "25%     1493.500000  \n",
       "50%     1574.500000  \n",
       "75%     1676.500000  \n",
       "max     1799.500000  "
      ]
     },
     "execution_count": 85,
     "metadata": {},
     "output_type": "execute_result"
    }
   ],
   "source": [
    "inter_mat.describe()"
   ]
  },
  {
   "cell_type": "code",
   "execution_count": 84,
   "metadata": {},
   "outputs": [
    {
     "data": {
      "text/html": [
       "<div>\n",
       "<style scoped>\n",
       "    .dataframe tbody tr th:only-of-type {\n",
       "        vertical-align: middle;\n",
       "    }\n",
       "\n",
       "    .dataframe tbody tr th {\n",
       "        vertical-align: top;\n",
       "    }\n",
       "\n",
       "    .dataframe thead th {\n",
       "        text-align: right;\n",
       "    }\n",
       "</style>\n",
       "<table border=\"1\" class=\"dataframe\">\n",
       "  <thead>\n",
       "    <tr style=\"text-align: right;\">\n",
       "      <th></th>\n",
       "      <th>Turns</th>\n",
       "      <th>White Rating</th>\n",
       "      <th>Black Rating</th>\n",
       "      <th>Opening Ply</th>\n",
       "      <th>Elo Difference</th>\n",
       "      <th>Match Elo</th>\n",
       "    </tr>\n",
       "  </thead>\n",
       "  <tbody>\n",
       "    <tr>\n",
       "      <th>count</th>\n",
       "      <td>4268.000000</td>\n",
       "      <td>4268.000000</td>\n",
       "      <td>4268.000000</td>\n",
       "      <td>4268.000000</td>\n",
       "      <td>4268.000000</td>\n",
       "      <td>4268.000000</td>\n",
       "    </tr>\n",
       "    <tr>\n",
       "      <th>mean</th>\n",
       "      <td>67.383786</td>\n",
       "      <td>1966.705014</td>\n",
       "      <td>1960.550375</td>\n",
       "      <td>5.995783</td>\n",
       "      <td>6.154639</td>\n",
       "      <td>1963.627694</td>\n",
       "    </tr>\n",
       "    <tr>\n",
       "      <th>std</th>\n",
       "      <td>34.578297</td>\n",
       "      <td>194.073983</td>\n",
       "      <td>188.158042</td>\n",
       "      <td>3.478075</td>\n",
       "      <td>281.906213</td>\n",
       "      <td>129.098031</td>\n",
       "    </tr>\n",
       "    <tr>\n",
       "      <th>min</th>\n",
       "      <td>1.000000</td>\n",
       "      <td>1016.000000</td>\n",
       "      <td>1122.000000</td>\n",
       "      <td>1.000000</td>\n",
       "      <td>-1605.000000</td>\n",
       "      <td>1800.000000</td>\n",
       "    </tr>\n",
       "    <tr>\n",
       "      <th>25%</th>\n",
       "      <td>43.000000</td>\n",
       "      <td>1845.000000</td>\n",
       "      <td>1839.000000</td>\n",
       "      <td>3.000000</td>\n",
       "      <td>-118.000000</td>\n",
       "      <td>1860.000000</td>\n",
       "    </tr>\n",
       "    <tr>\n",
       "      <th>50%</th>\n",
       "      <td>62.000000</td>\n",
       "      <td>1944.000000</td>\n",
       "      <td>1941.000000</td>\n",
       "      <td>5.000000</td>\n",
       "      <td>6.000000</td>\n",
       "      <td>1931.500000</td>\n",
       "    </tr>\n",
       "    <tr>\n",
       "      <th>75%</th>\n",
       "      <td>86.000000</td>\n",
       "      <td>2081.250000</td>\n",
       "      <td>2076.000000</td>\n",
       "      <td>8.000000</td>\n",
       "      <td>127.000000</td>\n",
       "      <td>2038.500000</td>\n",
       "    </tr>\n",
       "    <tr>\n",
       "      <th>max</th>\n",
       "      <td>349.000000</td>\n",
       "      <td>2700.000000</td>\n",
       "      <td>2723.000000</td>\n",
       "      <td>28.000000</td>\n",
       "      <td>1499.000000</td>\n",
       "      <td>2475.500000</td>\n",
       "    </tr>\n",
       "  </tbody>\n",
       "</table>\n",
       "</div>"
      ],
      "text/plain": [
       "             Turns  White Rating  Black Rating  Opening Ply  Elo Difference  \\\n",
       "count  4268.000000   4268.000000   4268.000000  4268.000000     4268.000000   \n",
       "mean     67.383786   1966.705014   1960.550375     5.995783        6.154639   \n",
       "std      34.578297    194.073983    188.158042     3.478075      281.906213   \n",
       "min       1.000000   1016.000000   1122.000000     1.000000    -1605.000000   \n",
       "25%      43.000000   1845.000000   1839.000000     3.000000     -118.000000   \n",
       "50%      62.000000   1944.000000   1941.000000     5.000000        6.000000   \n",
       "75%      86.000000   2081.250000   2076.000000     8.000000      127.000000   \n",
       "max     349.000000   2700.000000   2723.000000    28.000000     1499.000000   \n",
       "\n",
       "         Match Elo  \n",
       "count  4268.000000  \n",
       "mean   1963.627694  \n",
       "std     129.098031  \n",
       "min    1800.000000  \n",
       "25%    1860.000000  \n",
       "50%    1931.500000  \n",
       "75%    2038.500000  \n",
       "max    2475.500000  "
      ]
     },
     "execution_count": 84,
     "metadata": {},
     "output_type": "execute_result"
    }
   ],
   "source": [
    "adv_mat.describe()"
   ]
  },
  {
   "cell_type": "markdown",
   "metadata": {},
   "source": [
    "Generally, an advanced match contains much more turns than a newbie match. Matches on a more advanced level also follow more 'opening plies' (essentially emulating the past moves of masters, grandmasters)."
   ]
  },
  {
   "cell_type": "code",
   "execution_count": 91,
   "metadata": {},
   "outputs": [
    {
     "data": {
      "image/png": "[encoded data removed]",
      "text/plain": [
       "<Figure size 1080x720 with 1 Axes>"
      ]
     },
     "metadata": {
      "needs_background": "light"
     },
     "output_type": "display_data"
    }
   ],
   "source": [
    "plt.figure(figsize =(15,10))\n",
    "plt.scatter(df['Match Elo'], df['Turns'], alpha = 0.5, label = 'Match Elo - Turns Scatterplot')\n",
    "plt.xlabel('Match Elo')\n",
    "plt.ylabel ('Turns')\n",
    "plt.show()"
   ]
  },
  {
   "cell_type": "code",
   "execution_count": 76,
   "metadata": {},
   "outputs": [
    {
     "data": {
      "text/plain": [
       "E98    1.0\n",
       "E06    1.0\n",
       "D95    1.0\n",
       "D87    1.0\n",
       "D86    1.0\n",
       "      ... \n",
       "E46    NaN\n",
       "E47    NaN\n",
       "E48    NaN\n",
       "E56    NaN\n",
       "E72    NaN\n",
       "Name: Opening Eco, Length: 365, dtype: float64"
      ]
     },
     "execution_count": 76,
     "metadata": {},
     "output_type": "execute_result"
    }
   ],
   "source": [
    "# the highest opening winrates ( although I do not understand why there are null values here)\n",
    "x = df[df['Winner'] == 'white']['Opening Eco'].value_counts() / df['Opening Eco'].value_counts()\n",
    "x.sort_values(ascending = False)"
   ]
  },
  {
   "cell_type": "code",
   "execution_count": 82,
   "metadata": {},
   "outputs": [
    {
     "name": "stdout",
     "output_type": "stream",
     "text": [
      "A00 0.39451476793248946\n",
      "C00 0.4962962962962963\n",
      "D00 0.46790299572039945\n",
      "B01 0.498546511627907\n",
      "C41 0.5753846153846154\n",
      "C20 0.4520123839009288\n",
      "A40 0.5528052805280528\n",
      "B00 0.5975609756097561\n",
      "B20 0.3938294010889292\n",
      "C50 0.452\n",
      "C40 0.5971896955503513\n",
      "D02 0.5121359223300971\n",
      "C44 0.5154929577464789\n",
      "C42 0.536741214057508\n",
      "B07 0.5574324324324325\n",
      "C55 0.5136054421768708\n",
      "C45 0.5018587360594795\n",
      "C02 0.4664179104477612\n",
      "A04 0.552\n",
      "C46 0.556\n"
     ]
    }
   ],
   "source": [
    "#the winrates of the 20 most popular openings\n",
    "for i in df['Opening Eco'].value_counts().head(20).index:\n",
    "    print(i , x[i])"
   ]
  },
  {
   "cell_type": "markdown",
   "metadata": {},
   "source": [
    "## Failed Attempts"
   ]
  },
  {
   "cell_type": "code",
   "execution_count": 62,
   "metadata": {},
   "outputs": [],
   "source": [
    "# see which openings has the highest winrates\n",
    "x = df['Opening Eco'].value_counts().head(20)\n",
    "y = []\n",
    "for i in x.index:\n",
    "    y.append(df[df['Opening Eco'] == i]['Winner'].value_counts() )\n",
    "#maybe I need to create a column that convert white - black win into binary then use sum() based on that value for this way to work?"
   ]
  },
  {
   "cell_type": "code",
   "execution_count": 61,
   "metadata": {},
   "outputs": [
    {
     "data": {
      "text/plain": [
       "'blackblackblackblackblackblackwhiteblackblackwhiteblackwhiteblackblackblackwhitedrawwhiteblackblackblackwhitewhiteblackwhiteblackblackwhiteblackblackblackwhiteblackblackblackblackwhitewhitewhiteblackwhitewhiteblackblackblackblackwhitewhitewhitedrawblackwhiteblackdrawblackwhitedrawblackblackwhitewhiteblackwhitewhiteblackblackwhiteblackblackblackblackwhiteblackblackblackwhitewhiteblackblackblackwhitewhitedrawblackwhitewhiteblackwhitewhiteblackblackblackblackblackblackblackblackblackblackwhitewhitewhitewhitewhiteblackblackblackwhitewhitewhitewhitewhiteblackblackwhitewhiteblackwhiteblackwhiteblackwhitewhitewhiteblackwhiteblackwhitewhitewhitedrawblackblackwhiteblackblackdrawdrawwhiteblackwhiteblackwhiteblackwhiteblackblackblackblackwhitewhitewhiteblackwhiteblackwhiteblackwhitedrawwhitewhitewhitewhiteblackblackdrawwhitedrawblackwhiteblackblackblackwhitewhitedrawblackwhitewhiteblackwhitewhiteblackwhitedrawwhitewhitewhitewhitewhiteblackwhitewhitewhitewhitewhitewhitewhiteblackblackwhitewhiteblackblackblackblackwhitewhiteblackwhitewhiteblackblackblackwhitewhiteblackblackwhitewhitewhiteblackwhiteblackblackblackblackwhitewhiteblackblackwhitewhiteblackwhiteblackwhitewhiteblackwhitewhitewhiteblackwhiteblackblackwhitewhitedrawblackblackwhitewhitewhiteblackblackblackblackwhiteblackwhitewhitewhiteblackwhitedrawwhitewhiteblackblackwhiteblackwhitewhitewhiteblackwhitedrawwhiteblackblackblackwhitewhiteblackblackblackwhitewhitewhitewhiteblackblackblackblackwhitewhitewhitewhitewhitewhitewhitewhitewhitewhitewhiteblackblackwhitewhitewhiteblackwhiteblackwhiteblackblackwhitewhiteblackdrawblackwhitewhitewhitewhitewhitewhitewhiteblackblackblackwhiteblackblackblackblackwhiteblackwhiteblackwhiteblackblackwhiteblackwhiteblackwhiteblackwhitewhiteblackwhitewhitewhitewhitedrawblackblackblackblackwhitewhiteblackwhitewhiteblackblackblackblackblackblackblackwhitewhiteblackwhiteblackwhitewhiteblackblackwhitewhitewhiteblackdrawwhitewhiteblackwhiteblackblackblackblackblackblackwhitewhitewhitewhitewhiteblackwhiteblackwhitewhiteblackblackblackwhiteblackdrawblackwhitewhitewhiteblackwhitewhitewhiteblackwhitewhiteblackwhitewhiteblackblackwhitedrawblackblackblackblackblackblackblackwhiteblackwhitewhiteblackblackwhitewhitewhitewhiteblackblackblackblackblackwhiteblackblackdrawwhitewhitewhiteblackblackwhitewhitewhitewhiteblackblackblackwhitedrawdrawwhitewhiteblackblackblackblackwhiteblackwhitewhitedrawwhitewhiteblackwhitewhiteblackblackwhiteblackwhitewhitewhitewhitewhitewhitewhiteblackblackwhitewhitewhitewhitewhitewhitewhitewhitedrawblackwhitewhitewhitedrawwhitewhiteblackblackblackwhitewhitewhiteblackblackwhitewhiteblackblackblackwhitewhitewhiteblackwhitewhitedrawwhiteblackwhiteblackblackwhitewhiteblackwhitewhitewhitewhitewhitewhitewhitewhiteblackblackblackwhiteblackwhitewhitewhitedrawwhitewhiteblackblackblackblackwhiteblackwhiteblackwhitewhiteblackblackwhiteblackblackwhiteblackblackwhiteblackblackblackblackdrawblackblackwhiteblackblackblackwhiteblackwhiteblackwhiteblackwhitewhitewhitewhitewhitewhitewhitewhiteblackblackwhitewhitewhitewhitedrawwhiteblackblackdrawblackblackwhitedrawblackwhiteblackwhitewhiteblackwhitewhitewhiteblackblackwhiteblackwhiteblackwhiteblackwhitewhiteblackwhitewhitewhiteblackblackblackblackwhiteblackblackwhiteblackblackwhiteblackwhitewhiteblackblackwhitedrawwhiteblackblackwhitedrawwhitewhitewhiteblackwhitewhiteblackblackblackwhiteblackwhiteblackblackblackblackwhiteblackblackwhitewhiteblackwhitewhitewhitewhiteblackblackblackwhiteblackwhitewhitewhitewhitewhiteblackblackblackblackwhiteblackwhiteblackwhiteblackblackwhiteblackblackwhiteblackblackblackwhiteblackblackblackwhiteblackblackblackwhitewhiteblackblackblackblackwhitewhiteblackblackwhiteblackwhiteblackblackblackwhitewhitewhiteblackwhitewhiteblackblackdrawblackwhiteblackblackwhitewhitewhitewhitewhitewhitewhitewhiteblackwhiteblackblackblackwhitewhitewhiteblackblackwhiteblackblackwhitewhiteblackwhiteblackwhitewhiteblackblackwhitewhitewhiteblackblackwhitewhitewhiteblackwhitewhitewhiteblackblackwhitewhitewhitewhiteblack'"
      ]
     },
     "execution_count": 61,
     "metadata": {},
     "output_type": "execute_result"
    }
   ],
   "source": [
    "y[1]"
   ]
  },
  {
   "cell_type": "code",
   "execution_count": null,
   "metadata": {},
   "outputs": [
    {
     "ename": "SyntaxError",
     "evalue": "invalid syntax (1349293500.py, line 4)",
     "output_type": "error",
     "traceback": [
      "\u001b[1;36m  Input \u001b[1;32mIn [156]\u001b[1;36m\u001b[0m\n\u001b[1;33m    df['Match Level'][[(df['Match Elo'] >= 1200) & (df['Match Elo'] > 1500)]= 'Intermediate'\u001b[0m\n\u001b[1;37m                                                                            ^\u001b[0m\n\u001b[1;31mSyntaxError\u001b[0m\u001b[1;31m:\u001b[0m invalid syntax\n"
     ]
    }
   ],
   "source": [
    "# I try to categorize the matches based on the elo of the two players\n",
    "df['Match Level'] = pd.DataFrame([1 , len(df)])\n",
    "df['Match Level'][df['Match Elo'] < 1200] = 'Newbie'\n",
    "df['Match Level'][[(df['Match Elo'] >= 1200) & (df['Match Elo'] > 1500)]= 'Intermediate'\n",
    "df['Match Level'][[df['Match Elo'] < 1200]] = 'Advanced'"
   ]
  }
 ],
 "metadata": {
  "kernelspec": {
   "display_name": "Python 3.9.12 ('base')",
   "language": "python",
   "name": "python3"
  },
  "language_info": {
   "codemirror_mode": {
    "name": "ipython",
    "version": 3
   },
   "file_extension": ".py",
   "mimetype": "text/x-python",
   "name": "python",
   "nbconvert_exporter": "python",
   "pygments_lexer": "ipython3",
   "version": "3.9.12"
  },
  "orig_nbformat": 4,
  "vscode": {
   "interpreter": {
    "hash": "6380fedb9f6cf4be8f125c00dd7852bac794a2adcaa9b3f3ae516fd715891db7"
   }
  }
 },
 "nbformat": 4,
 "nbformat_minor": 2
}
